{
 "cells": [
  {
   "cell_type": "code",
   "execution_count": 102,
   "metadata": {},
   "outputs": [],
   "source": [
    "from dataset import WelQrateDataset\n",
    "from mol_utils.scaffold_split import generate_scaffolds\n",
    "from rdkit import Chem\n",
    "from rdkit.Chem import AllChem\n",
    "from rdkit.Chem import DataStructs\n",
    "import numpy as np"
   ]
  },
  {
   "cell_type": "code",
   "execution_count": 2,
   "metadata": {},
   "outputs": [
    {
     "name": "stdout",
     "output_type": "stream",
     "text": [
      "dataset stored in ../dataset_test/AID1798\n",
      "AID1798 dataset files already exist. Skipping download.\n",
      "60706\n"
     ]
    }
   ],
   "source": [
    "name = \"AID1798\"\n",
    "dataset_2d = WelQrateDataset(name, root ='../dataset_test', mol_repr ='2dmol', task_type='classification')\n",
    "smiles_list = dataset_2d.smiles\n",
    "print(len(smiles_list))"
   ]
  },
  {
   "cell_type": "code",
   "execution_count": 93,
   "metadata": {},
   "outputs": [],
   "source": [
    "active_smiles = [data.smiles for data in dataset_2d if data.y == 1]\n",
    "all_smiles = [data.smiles for data in dataset_2d]"
   ]
  },
  {
   "cell_type": "code",
   "execution_count": 95,
   "metadata": {},
   "outputs": [
    {
     "name": "stderr",
     "output_type": "stream",
     "text": [
      "100%|██████████| 164/164 [00:00<00:00, 4366.60it/s]\n"
     ]
    },
    {
     "name": "stdout",
     "output_type": "stream",
     "text": [
      "Number of scaffold generated: 144\n",
      "Number of molecules not parsed: 0\n"
     ]
    },
    {
     "name": "stderr",
     "output_type": "stream",
     "text": [
      "100%|██████████| 60706/60706 [00:11<00:00, 5074.71it/s]"
     ]
    },
    {
     "name": "stdout",
     "output_type": "stream",
     "text": [
      "Number of scaffold generated: 30079\n",
      "Number of molecules not parsed: 0\n"
     ]
    },
    {
     "name": "stderr",
     "output_type": "stream",
     "text": [
      "\n"
     ]
    }
   ],
   "source": [
    "active_scaffold_set,_ = generate_scaffolds(active_smiles)\n",
    "all_scaffold_set,_ = generate_scaffolds(all_smiles)"
   ]
  },
  {
   "cell_type": "code",
   "execution_count": 98,
   "metadata": {},
   "outputs": [],
   "source": [
    "active_scaffold_list = list(active_scaffold_set.keys())\n",
    "active_scaffold_mols = [Chem.MolFromSmiles(s) for s in active_scaffold_list]\n",
    "\n",
    "all_scaffold_list = list(all_scaffold_set.keys())\n",
    "all_scaffold_mols = [Chem.MolFromSmiles(s) for s in all_scaffold_list]"
   ]
  },
  {
   "cell_type": "code",
   "execution_count": 99,
   "metadata": {},
   "outputs": [],
   "source": [
    "def calculate_ecfp(scaffold_mols):\n",
    "    ecfp = []\n",
    "    error = []\n",
    "    for mol in scaffold_mols:\n",
    "        if mol is None:\n",
    "            print('Error: None molecule')\n",
    "            error.append(mol)\n",
    "            ecfp.append([None]*1024)\n",
    "        else:\n",
    "            list_bits_fingerprint = AllChem.GetMorganFingerprintAsBitVect(mol, 2, nBits=1024, useFeatures=True)\n",
    "            ecfp.append(list_bits_fingerprint)\n",
    "    return ecfp, error"
   ]
  },
  {
   "cell_type": "code",
   "execution_count": 101,
   "metadata": {},
   "outputs": [],
   "source": [
    "active_ecfp, _ = calculate_ecfp(active_scaffold_mols)\n",
    "all_ecfp, _ = calculate_ecfp(all_scaffold_mols)"
   ]
  },
  {
   "cell_type": "code",
   "execution_count": 142,
   "metadata": {},
   "outputs": [
    {
     "data": {
      "text/plain": [
       "(144, 30079)"
      ]
     },
     "execution_count": 142,
     "metadata": {},
     "output_type": "execute_result"
    }
   ],
   "source": [
    "sim_matrix  = np.zeros((len(active_ecfp), len(all_ecfp)))\n",
    "sim_matrix.shape"
   ]
  },
  {
   "cell_type": "code",
   "execution_count": 143,
   "metadata": {},
   "outputs": [],
   "source": [
    "for i in range(sim_matrix.shape[0]):\n",
    "    for j in range(i+1, sim_matrix.shape[1]):\n",
    "        if active_ecfp[i] is None or all_ecfp[j] is None:\n",
    "            sim_matrix[i,j] = None\n",
    "        else:\n",
    "            sim_matrix[i,j] = DataStructs.TanimotoSimilarity(active_ecfp[i], all_ecfp[j])"
   ]
  },
  {
   "cell_type": "code",
   "execution_count": 144,
   "metadata": {},
   "outputs": [
    {
     "data": {
      "text/plain": [
       "array([[0.        , 0.16666667, 0.14285714, ..., 0.22222222, 0.13043478,\n",
       "        0.125     ],\n",
       "       [0.        , 0.        , 0.14545455, ..., 0.16981132, 0.11320755,\n",
       "        0.10638298],\n",
       "       [0.        , 0.        , 0.        , ..., 0.16949153, 0.17857143,\n",
       "        0.15686275],\n",
       "       ...,\n",
       "       [0.        , 0.        , 0.        , ..., 0.2       , 0.19117647,\n",
       "        0.19354839],\n",
       "       [0.        , 0.        , 0.        , ..., 0.0754717 , 0.10204082,\n",
       "        0.11904762],\n",
       "       [0.        , 0.        , 0.        , ..., 0.13559322, 0.14285714,\n",
       "        0.14      ]])"
      ]
     },
     "execution_count": 144,
     "metadata": {},
     "output_type": "execute_result"
    }
   ],
   "source": [
    "sim_matrix"
   ]
  },
  {
   "cell_type": "code",
   "execution_count": 145,
   "metadata": {},
   "outputs": [
    {
     "name": "stdout",
     "output_type": "stream",
     "text": [
      "[1.         0.71875    0.70731707 0.5        0.70588235 0.625\n",
      " 0.62068966 0.51428571 0.79411765 0.76086957 0.71794872 0.56410256\n",
      " 0.59459459 0.75862069 1.         0.62222222 0.80851064 0.78571429\n",
      " 1.         1.         0.74074074 0.78947368 1.         0.97058824\n",
      " 1.         0.8        0.64516129 0.89285714 0.57142857 0.78378378\n",
      " 0.97826087 0.71111111 0.75757576 0.84210526 0.70909091 0.725\n",
      " 0.78       0.66666667 0.64516129 0.55172414 0.90909091 0.80392157\n",
      " 0.77777778 0.86956522 0.9047619  0.69565217 0.58823529 1.\n",
      " 1.         0.92307692 1.         0.58823529 0.69230769 1.\n",
      " 1.         0.86666667 0.85714286 0.75       0.81818182 0.65714286\n",
      " 0.72727273 1.         0.76923077 0.93939394 0.71794872 0.97368421\n",
      " 0.46511628 0.86046512 0.86206897 0.89285714 1.         0.94444444\n",
      " 0.73170732 0.87179487 0.65517241 0.76923077 0.97058824 0.8125\n",
      " 1.         1.         0.65714286 0.55319149 0.7826087  0.8\n",
      " 0.58333333 0.90625    0.64285714 0.72       0.51612903 0.81578947\n",
      " 0.65789474 0.70967742 0.78       1.         0.81818182 0.96428571\n",
      " 1.         1.         0.80851064 0.95454545 0.74285714 1.\n",
      " 0.51785714 0.74358974 0.96875    1.         0.63414634 0.75555556\n",
      " 0.69230769 1.         0.58823529 0.58536585 1.         0.78378378\n",
      " 0.67647059 0.85714286 0.         1.         0.57142857 0.51515152\n",
      " 0.45588235 0.58064516 0.62962963 0.825      0.97058824 0.86842105\n",
      " 0.83783784 0.58823529 0.80555556 0.725      0.69047619 1.\n",
      " 0.5952381  0.84615385 0.96       0.79545455 0.8125     0.8125\n",
      " 0.7962963  0.72727273 1.         0.66037736 0.62962963 0.86486486]\n"
     ]
    }
   ],
   "source": [
    "print(np.max(sim_matrix, axis=1))"
   ]
  }
 ],
 "metadata": {
  "kernelspec": {
   "display_name": "gad",
   "language": "python",
   "name": "python3"
  },
  "language_info": {
   "codemirror_mode": {
    "name": "ipython",
    "version": 3
   },
   "file_extension": ".py",
   "mimetype": "text/x-python",
   "name": "python",
   "nbconvert_exporter": "python",
   "pygments_lexer": "ipython3",
   "version": "3.10.14"
  }
 },
 "nbformat": 4,
 "nbformat_minor": 2
}
